{
 "cells": [
  {
   "cell_type": "code",
   "execution_count": 30,
   "id": "439f6d58-5553-41e9-a4f6-5f8e714c5bed",
   "metadata": {},
   "outputs": [
    {
     "data": {
      "application/vnd.plotly.v1+json": {
       "config": {
        "plotlyServerURL": "https://plot.ly"
       },
       "data": [
        {
         "fillcolor": "#4A6FA5",
         "hoverinfo": "text",
         "line": {
          "color": "#4A6FA5"
         },
         "text": "Listing 0",
         "type": "box",
         "x": [
          130000,
          150000
         ]
        },
        {
         "fillcolor": "#4A6FA5",
         "hoverinfo": "text",
         "line": {
          "color": "#4A6FA5"
         },
         "text": "Listing 1",
         "type": "box",
         "x": [
          150000,
          250000
         ]
        },
        {
         "fillcolor": "#4A6FA5",
         "hoverinfo": "text",
         "line": {
          "color": "#4A6FA5"
         },
         "text": "Listing 2",
         "type": "box",
         "x": [
          180000,
          300000
         ]
        },
        {
         "fillcolor": "#4A6FA5",
         "hoverinfo": "text",
         "line": {
          "color": "#4A6FA5"
         },
         "text": "Listing 3",
         "type": "box",
         "x": [
          150000,
          225000
         ]
        },
        {
         "fillcolor": "#4A6FA5",
         "hoverinfo": "text",
         "line": {
          "color": "#4A6FA5"
         },
         "text": "Listing 4",
         "type": "box",
         "x": [
          170000,
          220000
         ]
        },
        {
         "fillcolor": "#4A6FA5",
         "hoverinfo": "text",
         "line": {
          "color": "#4A6FA5"
         },
         "text": "Listing 5",
         "type": "box",
         "x": [
          120000,
          180000
         ]
        },
        {
         "fillcolor": "#4A6FA5",
         "hoverinfo": "text",
         "line": {
          "color": "#4A6FA5"
         },
         "text": "Listing 6",
         "type": "box",
         "x": [
          120000,
          220000
         ]
        },
        {
         "fillcolor": "#34E4EA",
         "hoverinfo": "text",
         "line": {
          "color": "#34E4EA"
         },
         "text": "Listing 7",
         "type": "box",
         "x": [
          130000,
          200000
         ]
        },
        {
         "fillcolor": "#011627",
         "hoverinfo": "text",
         "line": {
          "color": "#011627"
         },
         "text": "Listing 8",
         "type": "box",
         "x": [
          100000,
          150000
         ]
        },
        {
         "fillcolor": "#011627",
         "hoverinfo": "text",
         "line": {
          "color": "#011627"
         },
         "text": "Listing 9",
         "type": "box",
         "x": [
          125000,
          185000
         ]
        },
        {
         "fillcolor": "#34E4EA",
         "hoverinfo": "text",
         "line": {
          "color": "#34E4EA"
         },
         "text": "Listing 10",
         "type": "box",
         "x": [
          150000,
          200000
         ]
        },
        {
         "fillcolor": "#34E4EA",
         "hoverinfo": "text",
         "line": {
          "color": "#34E4EA"
         },
         "text": "Listing 11",
         "type": "box",
         "x": [
          150000,
          250000
         ]
        },
        {
         "fillcolor": "#4A6FA5",
         "hoverinfo": "text",
         "line": {
          "color": "#4A6FA5"
         },
         "text": "Listing 12",
         "type": "box",
         "x": [
          125000,
          180000
         ]
        },
        {
         "fillcolor": "#4A6FA5",
         "hoverinfo": "text",
         "line": {
          "color": "#4A6FA5"
         },
         "text": "Listing 13",
         "type": "box",
         "x": [
          90000,
          130000
         ]
        },
        {
         "fillcolor": "#4A6FA5",
         "hoverinfo": "text",
         "line": {
          "color": "#4A6FA5"
         },
         "text": "Listing 14",
         "type": "box",
         "x": [
          150000,
          200000
         ]
        },
        {
         "fillcolor": "#34E4EA",
         "hoverinfo": "text",
         "line": {
          "color": "#34E4EA"
         },
         "text": "Listing 15",
         "type": "box",
         "x": [
          140000,
          240000
         ]
        },
        {
         "fillcolor": "#4A6FA5",
         "hoverinfo": "text",
         "line": {
          "color": "#4A6FA5"
         },
         "text": "Listing 16",
         "type": "box",
         "x": [
          165000,
          180000
         ]
        },
        {
         "fillcolor": "#4A6FA5",
         "hoverinfo": "text",
         "line": {
          "color": "#4A6FA5"
         },
         "text": "Listing 17",
         "type": "box",
         "x": [
          80000,
          180000
         ]
        },
        {
         "fillcolor": "#4A6FA5",
         "hoverinfo": "text",
         "line": {
          "color": "#4A6FA5"
         },
         "text": "Listing 18",
         "type": "box",
         "x": [
          150000,
          155000
         ]
        },
        {
         "fillcolor": "#011627",
         "hoverinfo": "text",
         "line": {
          "color": "#011627"
         },
         "text": "Listing 19",
         "type": "box",
         "x": [
          140000,
          174000
         ]
        },
        {
         "fillcolor": "#4A6FA5",
         "hoverinfo": "text",
         "line": {
          "color": "#4A6FA5"
         },
         "text": "Listing 20",
         "type": "box",
         "x": [
          160000,
          210000
         ]
        },
        {
         "fillcolor": "#4A6FA5",
         "hoverinfo": "text",
         "line": {
          "color": "#4A6FA5"
         },
         "text": "Listing 21",
         "type": "box",
         "x": [
          175000,
          275000
         ]
        },
        {
         "fillcolor": "#4A6FA5",
         "hoverinfo": "text",
         "line": {
          "color": "#4A6FA5"
         },
         "text": "Listing 22",
         "type": "box",
         "x": [
          140000,
          170000
         ]
        },
        {
         "fillcolor": "#4A6FA5",
         "hoverinfo": "text",
         "line": {
          "color": "#4A6FA5"
         },
         "text": "Listing 23",
         "type": "box",
         "x": [
          125000,
          175000
         ]
        },
        {
         "fillcolor": "#4A6FA5",
         "hoverinfo": "text",
         "line": {
          "color": "#4A6FA5"
         },
         "text": "Listing 24",
         "type": "box",
         "x": [
          180000,
          250000
         ]
        },
        {
         "fillcolor": "#4A6FA5",
         "hoverinfo": "text",
         "line": {
          "color": "#4A6FA5"
         },
         "text": "Listing 25",
         "type": "box",
         "x": [
          140000,
          170000
         ]
        },
        {
         "fillcolor": "#4A6FA5",
         "hoverinfo": "text",
         "line": {
          "color": "#4A6FA5"
         },
         "text": "Listing 26",
         "type": "box",
         "x": [
          120000,
          200000
         ]
        },
        {
         "fillcolor": "#4A6FA5",
         "hoverinfo": "text",
         "line": {
          "color": "#4A6FA5"
         },
         "text": "Listing 27",
         "type": "box",
         "x": [
          80000,
          160000
         ]
        },
        {
         "fillcolor": "#4A6FA5",
         "hoverinfo": "text",
         "line": {
          "color": "#4A6FA5"
         },
         "text": "Listing 28",
         "type": "box",
         "x": [
          130000,
          180000
         ]
        },
        {
         "fillcolor": "#4A6FA5",
         "hoverinfo": "text",
         "line": {
          "color": "#4A6FA5"
         },
         "text": "Listing 29",
         "type": "box",
         "x": [
          210000,
          230000
         ]
        },
        {
         "fillcolor": "#4A6FA5",
         "hoverinfo": "text",
         "line": {
          "color": "#4A6FA5"
         },
         "text": "Listing 30",
         "type": "box",
         "x": [
          150000,
          200000
         ]
        }
       ],
       "layout": {
        "autosize": true,
        "shapes": [
         {
          "line": {
           "color": "green"
          },
          "type": "line",
          "x0": 145000,
          "x1": 145000,
          "xref": "x",
          "y0": 0,
          "y1": 1,
          "yref": "y domain"
         },
         {
          "line": {
           "color": "red"
          },
          "type": "line",
          "x0": 150000,
          "x1": 150000,
          "xref": "x",
          "y0": 0,
          "y1": 1,
          "yref": "y domain"
         }
        ],
        "showlegend": false,
        "template": {
         "data": {
          "bar": [
           {
            "error_x": {
             "color": "#2a3f5f"
            },
            "error_y": {
             "color": "#2a3f5f"
            },
            "marker": {
             "line": {
              "color": "#E5ECF6",
              "width": 0.5
             },
             "pattern": {
              "fillmode": "overlay",
              "size": 10,
              "solidity": 0.2
             }
            },
            "type": "bar"
           }
          ],
          "barpolar": [
           {
            "marker": {
             "line": {
              "color": "#E5ECF6",
              "width": 0.5
             },
             "pattern": {
              "fillmode": "overlay",
              "size": 10,
              "solidity": 0.2
             }
            },
            "type": "barpolar"
           }
          ],
          "carpet": [
           {
            "aaxis": {
             "endlinecolor": "#2a3f5f",
             "gridcolor": "white",
             "linecolor": "white",
             "minorgridcolor": "white",
             "startlinecolor": "#2a3f5f"
            },
            "baxis": {
             "endlinecolor": "#2a3f5f",
             "gridcolor": "white",
             "linecolor": "white",
             "minorgridcolor": "white",
             "startlinecolor": "#2a3f5f"
            },
            "type": "carpet"
           }
          ],
          "choropleth": [
           {
            "colorbar": {
             "outlinewidth": 0,
             "ticks": ""
            },
            "type": "choropleth"
           }
          ],
          "contour": [
           {
            "colorbar": {
             "outlinewidth": 0,
             "ticks": ""
            },
            "colorscale": [
             [
              0,
              "#0d0887"
             ],
             [
              0.1111111111111111,
              "#46039f"
             ],
             [
              0.2222222222222222,
              "#7201a8"
             ],
             [
              0.3333333333333333,
              "#9c179e"
             ],
             [
              0.4444444444444444,
              "#bd3786"
             ],
             [
              0.5555555555555556,
              "#d8576b"
             ],
             [
              0.6666666666666666,
              "#ed7953"
             ],
             [
              0.7777777777777778,
              "#fb9f3a"
             ],
             [
              0.8888888888888888,
              "#fdca26"
             ],
             [
              1,
              "#f0f921"
             ]
            ],
            "type": "contour"
           }
          ],
          "contourcarpet": [
           {
            "colorbar": {
             "outlinewidth": 0,
             "ticks": ""
            },
            "type": "contourcarpet"
           }
          ],
          "heatmap": [
           {
            "colorbar": {
             "outlinewidth": 0,
             "ticks": ""
            },
            "colorscale": [
             [
              0,
              "#0d0887"
             ],
             [
              0.1111111111111111,
              "#46039f"
             ],
             [
              0.2222222222222222,
              "#7201a8"
             ],
             [
              0.3333333333333333,
              "#9c179e"
             ],
             [
              0.4444444444444444,
              "#bd3786"
             ],
             [
              0.5555555555555556,
              "#d8576b"
             ],
             [
              0.6666666666666666,
              "#ed7953"
             ],
             [
              0.7777777777777778,
              "#fb9f3a"
             ],
             [
              0.8888888888888888,
              "#fdca26"
             ],
             [
              1,
              "#f0f921"
             ]
            ],
            "type": "heatmap"
           }
          ],
          "heatmapgl": [
           {
            "colorbar": {
             "outlinewidth": 0,
             "ticks": ""
            },
            "colorscale": [
             [
              0,
              "#0d0887"
             ],
             [
              0.1111111111111111,
              "#46039f"
             ],
             [
              0.2222222222222222,
              "#7201a8"
             ],
             [
              0.3333333333333333,
              "#9c179e"
             ],
             [
              0.4444444444444444,
              "#bd3786"
             ],
             [
              0.5555555555555556,
              "#d8576b"
             ],
             [
              0.6666666666666666,
              "#ed7953"
             ],
             [
              0.7777777777777778,
              "#fb9f3a"
             ],
             [
              0.8888888888888888,
              "#fdca26"
             ],
             [
              1,
              "#f0f921"
             ]
            ],
            "type": "heatmapgl"
           }
          ],
          "histogram": [
           {
            "marker": {
             "pattern": {
              "fillmode": "overlay",
              "size": 10,
              "solidity": 0.2
             }
            },
            "type": "histogram"
           }
          ],
          "histogram2d": [
           {
            "colorbar": {
             "outlinewidth": 0,
             "ticks": ""
            },
            "colorscale": [
             [
              0,
              "#0d0887"
             ],
             [
              0.1111111111111111,
              "#46039f"
             ],
             [
              0.2222222222222222,
              "#7201a8"
             ],
             [
              0.3333333333333333,
              "#9c179e"
             ],
             [
              0.4444444444444444,
              "#bd3786"
             ],
             [
              0.5555555555555556,
              "#d8576b"
             ],
             [
              0.6666666666666666,
              "#ed7953"
             ],
             [
              0.7777777777777778,
              "#fb9f3a"
             ],
             [
              0.8888888888888888,
              "#fdca26"
             ],
             [
              1,
              "#f0f921"
             ]
            ],
            "type": "histogram2d"
           }
          ],
          "histogram2dcontour": [
           {
            "colorbar": {
             "outlinewidth": 0,
             "ticks": ""
            },
            "colorscale": [
             [
              0,
              "#0d0887"
             ],
             [
              0.1111111111111111,
              "#46039f"
             ],
             [
              0.2222222222222222,
              "#7201a8"
             ],
             [
              0.3333333333333333,
              "#9c179e"
             ],
             [
              0.4444444444444444,
              "#bd3786"
             ],
             [
              0.5555555555555556,
              "#d8576b"
             ],
             [
              0.6666666666666666,
              "#ed7953"
             ],
             [
              0.7777777777777778,
              "#fb9f3a"
             ],
             [
              0.8888888888888888,
              "#fdca26"
             ],
             [
              1,
              "#f0f921"
             ]
            ],
            "type": "histogram2dcontour"
           }
          ],
          "mesh3d": [
           {
            "colorbar": {
             "outlinewidth": 0,
             "ticks": ""
            },
            "type": "mesh3d"
           }
          ],
          "parcoords": [
           {
            "line": {
             "colorbar": {
              "outlinewidth": 0,
              "ticks": ""
             }
            },
            "type": "parcoords"
           }
          ],
          "pie": [
           {
            "automargin": true,
            "type": "pie"
           }
          ],
          "scatter": [
           {
            "fillpattern": {
             "fillmode": "overlay",
             "size": 10,
             "solidity": 0.2
            },
            "type": "scatter"
           }
          ],
          "scatter3d": [
           {
            "line": {
             "colorbar": {
              "outlinewidth": 0,
              "ticks": ""
             }
            },
            "marker": {
             "colorbar": {
              "outlinewidth": 0,
              "ticks": ""
             }
            },
            "type": "scatter3d"
           }
          ],
          "scattercarpet": [
           {
            "marker": {
             "colorbar": {
              "outlinewidth": 0,
              "ticks": ""
             }
            },
            "type": "scattercarpet"
           }
          ],
          "scattergeo": [
           {
            "marker": {
             "colorbar": {
              "outlinewidth": 0,
              "ticks": ""
             }
            },
            "type": "scattergeo"
           }
          ],
          "scattergl": [
           {
            "marker": {
             "colorbar": {
              "outlinewidth": 0,
              "ticks": ""
             }
            },
            "type": "scattergl"
           }
          ],
          "scattermapbox": [
           {
            "marker": {
             "colorbar": {
              "outlinewidth": 0,
              "ticks": ""
             }
            },
            "type": "scattermapbox"
           }
          ],
          "scatterpolar": [
           {
            "marker": {
             "colorbar": {
              "outlinewidth": 0,
              "ticks": ""
             }
            },
            "type": "scatterpolar"
           }
          ],
          "scatterpolargl": [
           {
            "marker": {
             "colorbar": {
              "outlinewidth": 0,
              "ticks": ""
             }
            },
            "type": "scatterpolargl"
           }
          ],
          "scatterternary": [
           {
            "marker": {
             "colorbar": {
              "outlinewidth": 0,
              "ticks": ""
             }
            },
            "type": "scatterternary"
           }
          ],
          "surface": [
           {
            "colorbar": {
             "outlinewidth": 0,
             "ticks": ""
            },
            "colorscale": [
             [
              0,
              "#0d0887"
             ],
             [
              0.1111111111111111,
              "#46039f"
             ],
             [
              0.2222222222222222,
              "#7201a8"
             ],
             [
              0.3333333333333333,
              "#9c179e"
             ],
             [
              0.4444444444444444,
              "#bd3786"
             ],
             [
              0.5555555555555556,
              "#d8576b"
             ],
             [
              0.6666666666666666,
              "#ed7953"
             ],
             [
              0.7777777777777778,
              "#fb9f3a"
             ],
             [
              0.8888888888888888,
              "#fdca26"
             ],
             [
              1,
              "#f0f921"
             ]
            ],
            "type": "surface"
           }
          ],
          "table": [
           {
            "cells": {
             "fill": {
              "color": "#EBF0F8"
             },
             "line": {
              "color": "white"
             }
            },
            "header": {
             "fill": {
              "color": "#C8D4E3"
             },
             "line": {
              "color": "white"
             }
            },
            "type": "table"
           }
          ]
         },
         "layout": {
          "annotationdefaults": {
           "arrowcolor": "#2a3f5f",
           "arrowhead": 0,
           "arrowwidth": 1
          },
          "autotypenumbers": "strict",
          "coloraxis": {
           "colorbar": {
            "outlinewidth": 0,
            "ticks": ""
           }
          },
          "colorscale": {
           "diverging": [
            [
             0,
             "#8e0152"
            ],
            [
             0.1,
             "#c51b7d"
            ],
            [
             0.2,
             "#de77ae"
            ],
            [
             0.3,
             "#f1b6da"
            ],
            [
             0.4,
             "#fde0ef"
            ],
            [
             0.5,
             "#f7f7f7"
            ],
            [
             0.6,
             "#e6f5d0"
            ],
            [
             0.7,
             "#b8e186"
            ],
            [
             0.8,
             "#7fbc41"
            ],
            [
             0.9,
             "#4d9221"
            ],
            [
             1,
             "#276419"
            ]
           ],
           "sequential": [
            [
             0,
             "#0d0887"
            ],
            [
             0.1111111111111111,
             "#46039f"
            ],
            [
             0.2222222222222222,
             "#7201a8"
            ],
            [
             0.3333333333333333,
             "#9c179e"
            ],
            [
             0.4444444444444444,
             "#bd3786"
            ],
            [
             0.5555555555555556,
             "#d8576b"
            ],
            [
             0.6666666666666666,
             "#ed7953"
            ],
            [
             0.7777777777777778,
             "#fb9f3a"
            ],
            [
             0.8888888888888888,
             "#fdca26"
            ],
            [
             1,
             "#f0f921"
            ]
           ],
           "sequentialminus": [
            [
             0,
             "#0d0887"
            ],
            [
             0.1111111111111111,
             "#46039f"
            ],
            [
             0.2222222222222222,
             "#7201a8"
            ],
            [
             0.3333333333333333,
             "#9c179e"
            ],
            [
             0.4444444444444444,
             "#bd3786"
            ],
            [
             0.5555555555555556,
             "#d8576b"
            ],
            [
             0.6666666666666666,
             "#ed7953"
            ],
            [
             0.7777777777777778,
             "#fb9f3a"
            ],
            [
             0.8888888888888888,
             "#fdca26"
            ],
            [
             1,
             "#f0f921"
            ]
           ]
          },
          "colorway": [
           "#636efa",
           "#EF553B",
           "#00cc96",
           "#ab63fa",
           "#FFA15A",
           "#19d3f3",
           "#FF6692",
           "#B6E880",
           "#FF97FF",
           "#FECB52"
          ],
          "font": {
           "color": "#2a3f5f"
          },
          "geo": {
           "bgcolor": "white",
           "lakecolor": "white",
           "landcolor": "#E5ECF6",
           "showlakes": true,
           "showland": true,
           "subunitcolor": "white"
          },
          "hoverlabel": {
           "align": "left"
          },
          "hovermode": "closest",
          "mapbox": {
           "style": "light"
          },
          "paper_bgcolor": "white",
          "plot_bgcolor": "#E5ECF6",
          "polar": {
           "angularaxis": {
            "gridcolor": "white",
            "linecolor": "white",
            "ticks": ""
           },
           "bgcolor": "#E5ECF6",
           "radialaxis": {
            "gridcolor": "white",
            "linecolor": "white",
            "ticks": ""
           }
          },
          "scene": {
           "xaxis": {
            "backgroundcolor": "#E5ECF6",
            "gridcolor": "white",
            "gridwidth": 2,
            "linecolor": "white",
            "showbackground": true,
            "ticks": "",
            "zerolinecolor": "white"
           },
           "yaxis": {
            "backgroundcolor": "#E5ECF6",
            "gridcolor": "white",
            "gridwidth": 2,
            "linecolor": "white",
            "showbackground": true,
            "ticks": "",
            "zerolinecolor": "white"
           },
           "zaxis": {
            "backgroundcolor": "#E5ECF6",
            "gridcolor": "white",
            "gridwidth": 2,
            "linecolor": "white",
            "showbackground": true,
            "ticks": "",
            "zerolinecolor": "white"
           }
          },
          "shapedefaults": {
           "line": {
            "color": "#2a3f5f"
           }
          },
          "ternary": {
           "aaxis": {
            "gridcolor": "white",
            "linecolor": "white",
            "ticks": ""
           },
           "baxis": {
            "gridcolor": "white",
            "linecolor": "white",
            "ticks": ""
           },
           "bgcolor": "#E5ECF6",
           "caxis": {
            "gridcolor": "white",
            "linecolor": "white",
            "ticks": ""
           }
          },
          "title": {
           "x": 0.05
          },
          "xaxis": {
           "automargin": true,
           "gridcolor": "white",
           "linecolor": "white",
           "ticks": "",
           "title": {
            "standoff": 15
           },
           "zerolinecolor": "white",
           "zerolinewidth": 2
          },
          "yaxis": {
           "automargin": true,
           "gridcolor": "white",
           "linecolor": "white",
           "ticks": "",
           "title": {
            "standoff": 15
           },
           "zerolinecolor": "white",
           "zerolinewidth": 2
          }
         }
        },
        "title": {
         "text": "Salary Windows: Wellfound & Y Combinator & BuiltIn < 75 employees"
        },
        "xaxis": {
         "range": [
          70000,
          310000
         ],
         "title": {
          "text": "Salary Range"
         },
         "type": "linear"
        },
        "yaxis": {
         "autorange": true,
         "range": [
          -0.5,
          30.5
         ],
         "title": {
          "text": "Salary Windows"
         },
         "type": "category"
        }
       }
      },
      "image/png": "[encoded data removed]",
      "text/html": [
       "<div>                            <div id=\"c4185cfa-9f28-4d11-a13c-d3fd6cd687ae\" class=\"plotly-graph-div\" style=\"height:525px; width:100%;\"></div>            <script type=\"text/javascript\">                require([\"plotly\"], function(Plotly) {                    window.PLOTLYENV=window.PLOTLYENV || {};                                    if (document.getElementById(\"c4185cfa-9f28-4d11-a13c-d3fd6cd687ae\")) {                    Plotly.newPlot(                        \"c4185cfa-9f28-4d11-a13c-d3fd6cd687ae\",                        [{\"fillcolor\":\"#4A6FA5\",\"hoverinfo\":\"text\",\"line\":{\"color\":\"#4A6FA5\"},\"text\":\"Listing 0\",\"x\":[130000,150000],\"type\":\"box\"},{\"fillcolor\":\"#4A6FA5\",\"hoverinfo\":\"text\",\"line\":{\"color\":\"#4A6FA5\"},\"text\":\"Listing 1\",\"x\":[150000,250000],\"type\":\"box\"},{\"fillcolor\":\"#4A6FA5\",\"hoverinfo\":\"text\",\"line\":{\"color\":\"#4A6FA5\"},\"text\":\"Listing 2\",\"x\":[180000,300000],\"type\":\"box\"},{\"fillcolor\":\"#4A6FA5\",\"hoverinfo\":\"text\",\"line\":{\"color\":\"#4A6FA5\"},\"text\":\"Listing 3\",\"x\":[150000,225000],\"type\":\"box\"},{\"fillcolor\":\"#4A6FA5\",\"hoverinfo\":\"text\",\"line\":{\"color\":\"#4A6FA5\"},\"text\":\"Listing 4\",\"x\":[170000,220000],\"type\":\"box\"},{\"fillcolor\":\"#4A6FA5\",\"hoverinfo\":\"text\",\"line\":{\"color\":\"#4A6FA5\"},\"text\":\"Listing 5\",\"x\":[120000,180000],\"type\":\"box\"},{\"fillcolor\":\"#4A6FA5\",\"hoverinfo\":\"text\",\"line\":{\"color\":\"#4A6FA5\"},\"text\":\"Listing 6\",\"x\":[120000,220000],\"type\":\"box\"},{\"fillcolor\":\"#34E4EA\",\"hoverinfo\":\"text\",\"line\":{\"color\":\"#34E4EA\"},\"text\":\"Listing 7\",\"x\":[130000,200000],\"type\":\"box\"},{\"fillcolor\":\"#011627\",\"hoverinfo\":\"text\",\"line\":{\"color\":\"#011627\"},\"text\":\"Listing 8\",\"x\":[100000,150000],\"type\":\"box\"},{\"fillcolor\":\"#011627\",\"hoverinfo\":\"text\",\"line\":{\"color\":\"#011627\"},\"text\":\"Listing 9\",\"x\":[125000,185000],\"type\":\"box\"},{\"fillcolor\":\"#34E4EA\",\"hoverinfo\":\"text\",\"line\":{\"color\":\"#34E4EA\"},\"text\":\"Listing 10\",\"x\":[150000,200000],\"type\":\"box\"},{\"fillcolor\":\"#34E4EA\",\"hoverinfo\":\"text\",\"line\":{\"color\":\"#34E4EA\"},\"text\":\"Listing 11\",\"x\":[150000,250000],\"type\":\"box\"},{\"fillcolor\":\"#4A6FA5\",\"hoverinfo\":\"text\",\"line\":{\"color\":\"#4A6FA5\"},\"text\":\"Listing 12\",\"x\":[125000,180000],\"type\":\"box\"},{\"fillcolor\":\"#4A6FA5\",\"hoverinfo\":\"text\",\"line\":{\"color\":\"#4A6FA5\"},\"text\":\"Listing 13\",\"x\":[90000,130000],\"type\":\"box\"},{\"fillcolor\":\"#4A6FA5\",\"hoverinfo\":\"text\",\"line\":{\"color\":\"#4A6FA5\"},\"text\":\"Listing 14\",\"x\":[150000,200000],\"type\":\"box\"},{\"fillcolor\":\"#34E4EA\",\"hoverinfo\":\"text\",\"line\":{\"color\":\"#34E4EA\"},\"text\":\"Listing 15\",\"x\":[140000,240000],\"type\":\"box\"},{\"fillcolor\":\"#4A6FA5\",\"hoverinfo\":\"text\",\"line\":{\"color\":\"#4A6FA5\"},\"text\":\"Listing 16\",\"x\":[165000,180000],\"type\":\"box\"},{\"fillcolor\":\"#4A6FA5\",\"hoverinfo\":\"text\",\"line\":{\"color\":\"#4A6FA5\"},\"text\":\"Listing 17\",\"x\":[80000,180000],\"type\":\"box\"},{\"fillcolor\":\"#4A6FA5\",\"hoverinfo\":\"text\",\"line\":{\"color\":\"#4A6FA5\"},\"text\":\"Listing 18\",\"x\":[150000,155000],\"type\":\"box\"},{\"fillcolor\":\"#011627\",\"hoverinfo\":\"text\",\"line\":{\"color\":\"#011627\"},\"text\":\"Listing 19\",\"x\":[140000,174000],\"type\":\"box\"},{\"fillcolor\":\"#4A6FA5\",\"hoverinfo\":\"text\",\"line\":{\"color\":\"#4A6FA5\"},\"text\":\"Listing 20\",\"x\":[160000,210000],\"type\":\"box\"},{\"fillcolor\":\"#4A6FA5\",\"hoverinfo\":\"text\",\"line\":{\"color\":\"#4A6FA5\"},\"text\":\"Listing 21\",\"x\":[175000,275000],\"type\":\"box\"},{\"fillcolor\":\"#4A6FA5\",\"hoverinfo\":\"text\",\"line\":{\"color\":\"#4A6FA5\"},\"text\":\"Listing 22\",\"x\":[140000,170000],\"type\":\"box\"},{\"fillcolor\":\"#4A6FA5\",\"hoverinfo\":\"text\",\"line\":{\"color\":\"#4A6FA5\"},\"text\":\"Listing 23\",\"x\":[125000,175000],\"type\":\"box\"},{\"fillcolor\":\"#4A6FA5\",\"hoverinfo\":\"text\",\"line\":{\"color\":\"#4A6FA5\"},\"text\":\"Listing 24\",\"x\":[180000,250000],\"type\":\"box\"},{\"fillcolor\":\"#4A6FA5\",\"hoverinfo\":\"text\",\"line\":{\"color\":\"#4A6FA5\"},\"text\":\"Listing 25\",\"x\":[140000,170000],\"type\":\"box\"},{\"fillcolor\":\"#4A6FA5\",\"hoverinfo\":\"text\",\"line\":{\"color\":\"#4A6FA5\"},\"text\":\"Listing 26\",\"x\":[120000,200000],\"type\":\"box\"},{\"fillcolor\":\"#4A6FA5\",\"hoverinfo\":\"text\",\"line\":{\"color\":\"#4A6FA5\"},\"text\":\"Listing 27\",\"x\":[80000,160000],\"type\":\"box\"},{\"fillcolor\":\"#4A6FA5\",\"hoverinfo\":\"text\",\"line\":{\"color\":\"#4A6FA5\"},\"text\":\"Listing 28\",\"x\":[130000,180000],\"type\":\"box\"},{\"fillcolor\":\"#4A6FA5\",\"hoverinfo\":\"text\",\"line\":{\"color\":\"#4A6FA5\"},\"text\":\"Listing 29\",\"x\":[210000,230000],\"type\":\"box\"},{\"fillcolor\":\"#4A6FA5\",\"hoverinfo\":\"text\",\"line\":{\"color\":\"#4A6FA5\"},\"text\":\"Listing 30\",\"x\":[150000,200000],\"type\":\"box\"}],                        {\"template\":{\"data\":{\"histogram2dcontour\":[{\"type\":\"histogram2dcontour\",\"colorbar\":{\"outlinewidth\":0,\"ticks\":\"\"},\"colorscale\":[[0.0,\"#0d0887\"],[0.1111111111111111,\"#46039f\"],[0.2222222222222222,\"#7201a8\"],[0.3333333333333333,\"#9c179e\"],[0.4444444444444444,\"#bd3786\"],[0.5555555555555556,\"#d8576b\"],[0.6666666666666666,\"#ed7953\"],[0.7777777777777778,\"#fb9f3a\"],[0.8888888888888888,\"#fdca26\"],[1.0,\"#f0f921\"]]}],\"choropleth\":[{\"type\":\"choropleth\",\"colorbar\":{\"outlinewidth\":0,\"ticks\":\"\"}}],\"histogram2d\":[{\"type\":\"histogram2d\",\"colorbar\":{\"outlinewidth\":0,\"ticks\":\"\"},\"colorscale\":[[0.0,\"#0d0887\"],[0.1111111111111111,\"#46039f\"],[0.2222222222222222,\"#7201a8\"],[0.3333333333333333,\"#9c179e\"],[0.4444444444444444,\"#bd3786\"],[0.5555555555555556,\"#d8576b\"],[0.6666666666666666,\"#ed7953\"],[0.7777777777777778,\"#fb9f3a\"],[0.8888888888888888,\"#fdca26\"],[1.0,\"#f0f921\"]]}],\"heatmap\":[{\"type\":\"heatmap\",\"colorbar\":{\"outlinewidth\":0,\"ticks\":\"\"},\"colorscale\":[[0.0,\"#0d0887\"],[0.1111111111111111,\"#46039f\"],[0.2222222222222222,\"#7201a8\"],[0.3333333333333333,\"#9c179e\"],[0.4444444444444444,\"#bd3786\"],[0.5555555555555556,\"#d8576b\"],[0.6666666666666666,\"#ed7953\"],[0.7777777777777778,\"#fb9f3a\"],[0.8888888888888888,\"#fdca26\"],[1.0,\"#f0f921\"]]}],\"heatmapgl\":[{\"type\":\"heatmapgl\",\"colorbar\":{\"outlinewidth\":0,\"ticks\":\"\"},\"colorscale\":[[0.0,\"#0d0887\"],[0.1111111111111111,\"#46039f\"],[0.2222222222222222,\"#7201a8\"],[0.3333333333333333,\"#9c179e\"],[0.4444444444444444,\"#bd3786\"],[0.5555555555555556,\"#d8576b\"],[0.6666666666666666,\"#ed7953\"],[0.7777777777777778,\"#fb9f3a\"],[0.8888888888888888,\"#fdca26\"],[1.0,\"#f0f921\"]]}],\"contourcarpet\":[{\"type\":\"contourcarpet\",\"colorbar\":{\"outlinewidth\":0,\"ticks\":\"\"}}],\"contour\":[{\"type\":\"contour\",\"colorbar\":{\"outlinewidth\":0,\"ticks\":\"\"},\"colorscale\":[[0.0,\"#0d0887\"],[0.1111111111111111,\"#46039f\"],[0.2222222222222222,\"#7201a8\"],[0.3333333333333333,\"#9c179e\"],[0.4444444444444444,\"#bd3786\"],[0.5555555555555556,\"#d8576b\"],[0.6666666666666666,\"#ed7953\"],[0.7777777777777778,\"#fb9f3a\"],[0.8888888888888888,\"#fdca26\"],[1.0,\"#f0f921\"]]}],\"surface\":[{\"type\":\"surface\",\"colorbar\":{\"outlinewidth\":0,\"ticks\":\"\"},\"colorscale\":[[0.0,\"#0d0887\"],[0.1111111111111111,\"#46039f\"],[0.2222222222222222,\"#7201a8\"],[0.3333333333333333,\"#9c179e\"],[0.4444444444444444,\"#bd3786\"],[0.5555555555555556,\"#d8576b\"],[0.6666666666666666,\"#ed7953\"],[0.7777777777777778,\"#fb9f3a\"],[0.8888888888888888,\"#fdca26\"],[1.0,\"#f0f921\"]]}],\"mesh3d\":[{\"type\":\"mesh3d\",\"colorbar\":{\"outlinewidth\":0,\"ticks\":\"\"}}],\"scatter\":[{\"fillpattern\":{\"fillmode\":\"overlay\",\"size\":10,\"solidity\":0.2},\"type\":\"scatter\"}],\"parcoords\":[{\"type\":\"parcoords\",\"line\":{\"colorbar\":{\"outlinewidth\":0,\"ticks\":\"\"}}}],\"scatterpolargl\":[{\"type\":\"scatterpolargl\",\"marker\":{\"colorbar\":{\"outlinewidth\":0,\"ticks\":\"\"}}}],\"bar\":[{\"error_x\":{\"color\":\"#2a3f5f\"},\"error_y\":{\"color\":\"#2a3f5f\"},\"marker\":{\"line\":{\"color\":\"#E5ECF6\",\"width\":0.5},\"pattern\":{\"fillmode\":\"overlay\",\"size\":10,\"solidity\":0.2}},\"type\":\"bar\"}],\"scattergeo\":[{\"type\":\"scattergeo\",\"marker\":{\"colorbar\":{\"outlinewidth\":0,\"ticks\":\"\"}}}],\"scatterpolar\":[{\"type\":\"scatterpolar\",\"marker\":{\"colorbar\":{\"outlinewidth\":0,\"ticks\":\"\"}}}],\"histogram\":[{\"marker\":{\"pattern\":{\"fillmode\":\"overlay\",\"size\":10,\"solidity\":0.2}},\"type\":\"histogram\"}],\"scattergl\":[{\"type\":\"scattergl\",\"marker\":{\"colorbar\":{\"outlinewidth\":0,\"ticks\":\"\"}}}],\"scatter3d\":[{\"type\":\"scatter3d\",\"line\":{\"colorbar\":{\"outlinewidth\":0,\"ticks\":\"\"}},\"marker\":{\"colorbar\":{\"outlinewidth\":0,\"ticks\":\"\"}}}],\"scattermapbox\":[{\"type\":\"scattermapbox\",\"marker\":{\"colorbar\":{\"outlinewidth\":0,\"ticks\":\"\"}}}],\"scatterternary\":[{\"type\":\"scatterternary\",\"marker\":{\"colorbar\":{\"outlinewidth\":0,\"ticks\":\"\"}}}],\"scattercarpet\":[{\"type\":\"scattercarpet\",\"marker\":{\"colorbar\":{\"outlinewidth\":0,\"ticks\":\"\"}}}],\"carpet\":[{\"aaxis\":{\"endlinecolor\":\"#2a3f5f\",\"gridcolor\":\"white\",\"linecolor\":\"white\",\"minorgridcolor\":\"white\",\"startlinecolor\":\"#2a3f5f\"},\"baxis\":{\"endlinecolor\":\"#2a3f5f\",\"gridcolor\":\"white\",\"linecolor\":\"white\",\"minorgridcolor\":\"white\",\"startlinecolor\":\"#2a3f5f\"},\"type\":\"carpet\"}],\"table\":[{\"cells\":{\"fill\":{\"color\":\"#EBF0F8\"},\"line\":{\"color\":\"white\"}},\"header\":{\"fill\":{\"color\":\"#C8D4E3\"},\"line\":{\"color\":\"white\"}},\"type\":\"table\"}],\"barpolar\":[{\"marker\":{\"line\":{\"color\":\"#E5ECF6\",\"width\":0.5},\"pattern\":{\"fillmode\":\"overlay\",\"size\":10,\"solidity\":0.2}},\"type\":\"barpolar\"}],\"pie\":[{\"automargin\":true,\"type\":\"pie\"}]},\"layout\":{\"autotypenumbers\":\"strict\",\"colorway\":[\"#636efa\",\"#EF553B\",\"#00cc96\",\"#ab63fa\",\"#FFA15A\",\"#19d3f3\",\"#FF6692\",\"#B6E880\",\"#FF97FF\",\"#FECB52\"],\"font\":{\"color\":\"#2a3f5f\"},\"hovermode\":\"closest\",\"hoverlabel\":{\"align\":\"left\"},\"paper_bgcolor\":\"white\",\"plot_bgcolor\":\"#E5ECF6\",\"polar\":{\"bgcolor\":\"#E5ECF6\",\"angularaxis\":{\"gridcolor\":\"white\",\"linecolor\":\"white\",\"ticks\":\"\"},\"radialaxis\":{\"gridcolor\":\"white\",\"linecolor\":\"white\",\"ticks\":\"\"}},\"ternary\":{\"bgcolor\":\"#E5ECF6\",\"aaxis\":{\"gridcolor\":\"white\",\"linecolor\":\"white\",\"ticks\":\"\"},\"baxis\":{\"gridcolor\":\"white\",\"linecolor\":\"white\",\"ticks\":\"\"},\"caxis\":{\"gridcolor\":\"white\",\"linecolor\":\"white\",\"ticks\":\"\"}},\"coloraxis\":{\"colorbar\":{\"outlinewidth\":0,\"ticks\":\"\"}},\"colorscale\":{\"sequential\":[[0.0,\"#0d0887\"],[0.1111111111111111,\"#46039f\"],[0.2222222222222222,\"#7201a8\"],[0.3333333333333333,\"#9c179e\"],[0.4444444444444444,\"#bd3786\"],[0.5555555555555556,\"#d8576b\"],[0.6666666666666666,\"#ed7953\"],[0.7777777777777778,\"#fb9f3a\"],[0.8888888888888888,\"#fdca26\"],[1.0,\"#f0f921\"]],\"sequentialminus\":[[0.0,\"#0d0887\"],[0.1111111111111111,\"#46039f\"],[0.2222222222222222,\"#7201a8\"],[0.3333333333333333,\"#9c179e\"],[0.4444444444444444,\"#bd3786\"],[0.5555555555555556,\"#d8576b\"],[0.6666666666666666,\"#ed7953\"],[0.7777777777777778,\"#fb9f3a\"],[0.8888888888888888,\"#fdca26\"],[1.0,\"#f0f921\"]],\"diverging\":[[0,\"#8e0152\"],[0.1,\"#c51b7d\"],[0.2,\"#de77ae\"],[0.3,\"#f1b6da\"],[0.4,\"#fde0ef\"],[0.5,\"#f7f7f7\"],[0.6,\"#e6f5d0\"],[0.7,\"#b8e186\"],[0.8,\"#7fbc41\"],[0.9,\"#4d9221\"],[1,\"#276419\"]]},\"xaxis\":{\"gridcolor\":\"white\",\"linecolor\":\"white\",\"ticks\":\"\",\"title\":{\"standoff\":15},\"zerolinecolor\":\"white\",\"automargin\":true,\"zerolinewidth\":2},\"yaxis\":{\"gridcolor\":\"white\",\"linecolor\":\"white\",\"ticks\":\"\",\"title\":{\"standoff\":15},\"zerolinecolor\":\"white\",\"automargin\":true,\"zerolinewidth\":2},\"scene\":{\"xaxis\":{\"backgroundcolor\":\"#E5ECF6\",\"gridcolor\":\"white\",\"linecolor\":\"white\",\"showbackground\":true,\"ticks\":\"\",\"zerolinecolor\":\"white\",\"gridwidth\":2},\"yaxis\":{\"backgroundcolor\":\"#E5ECF6\",\"gridcolor\":\"white\",\"linecolor\":\"white\",\"showbackground\":true,\"ticks\":\"\",\"zerolinecolor\":\"white\",\"gridwidth\":2},\"zaxis\":{\"backgroundcolor\":\"#E5ECF6\",\"gridcolor\":\"white\",\"linecolor\":\"white\",\"showbackground\":true,\"ticks\":\"\",\"zerolinecolor\":\"white\",\"gridwidth\":2}},\"shapedefaults\":{\"line\":{\"color\":\"#2a3f5f\"}},\"annotationdefaults\":{\"arrowcolor\":\"#2a3f5f\",\"arrowhead\":0,\"arrowwidth\":1},\"geo\":{\"bgcolor\":\"white\",\"landcolor\":\"#E5ECF6\",\"subunitcolor\":\"white\",\"showland\":true,\"showlakes\":true,\"lakecolor\":\"white\"},\"title\":{\"x\":0.05},\"mapbox\":{\"style\":\"light\"}}},\"title\":{\"text\":\"Salary Windows: Wellfound & Y Combinator & BuiltIn \\u003c 75 employees\"},\"xaxis\":{\"title\":{\"text\":\"Salary Range\"},\"range\":[70000,310000]},\"yaxis\":{\"title\":{\"text\":\"Salary Windows\"},\"type\":\"category\"},\"showlegend\":false,\"shapes\":[{\"line\":{\"color\":\"green\"},\"type\":\"line\",\"x0\":145000,\"x1\":145000,\"xref\":\"x\",\"y0\":0,\"y1\":1,\"yref\":\"y domain\"},{\"line\":{\"color\":\"red\"},\"type\":\"line\",\"x0\":150000,\"x1\":150000,\"xref\":\"x\",\"y0\":0,\"y1\":1,\"yref\":\"y domain\"}]},                        {\"responsive\": true}                    ).then(function(){\n",
       "                            \n",
       "var gd = document.getElementById('c4185cfa-9f28-4d11-a13c-d3fd6cd687ae');\n",
       "var x = new MutationObserver(function (mutations, observer) {{\n",
       "        var display = window.getComputedStyle(gd).display;\n",
       "        if (!display || display === 'none') {{\n",
       "            console.log([gd, 'removed!']);\n",
       "            Plotly.purge(gd);\n",
       "            observer.disconnect();\n",
       "        }}\n",
       "}});\n",
       "\n",
       "// Listen for the removal of the full notebook cells\n",
       "var notebookContainer = gd.closest('#notebook-container');\n",
       "if (notebookContainer) {{\n",
       "    x.observe(notebookContainer, {childList: true});\n",
       "}}\n",
       "\n",
       "// Listen for the clearing of the current output cell\n",
       "var outputEl = gd.closest('.output');\n",
       "if (outputEl) {{\n",
       "    x.observe(outputEl, {childList: true});\n",
       "}}\n",
       "\n",
       "                        })                };                });            </script>        </div>"
      ]
     },
     "metadata": {},
     "output_type": "display_data"
    }
   ],
   "source": [
    "import pandas as pd\n",
    "import plotly.graph_objects as go\n",
    "import plotly.express as px\n",
    "\n",
    "# built in ny, built in la, wellfound, y-combinator\n",
    "# company size less than 50\n",
    "\n",
    "# Your data\n",
    "data = [\n",
    "   # {\"low\": 140000, \"high\": 200000, \"company\": \"Instawork\", \"size\": 500, \"title\": \"ML Engineer\", \"yoe\": 1}, \n",
    "    {\"low\": 130000, \"high\": 150000, \"company\": \"Sown to Grow\", \"size\": 16, \"title\": \"ML Ops and Data Engineer\", \"yoe\": 3}, \n",
    "    {\"low\": 150000, \"high\": 250000, \"company\": \"Replicate\", \"size\": 27, \"title\": \"Machine Learning Engineer\", \"yoe\": 3}, \n",
    "    {\"low\": 180000, \"high\": 300000, \"company\": \"Luminai\", \"size\": 27, \"title\": \"Machine Learning Engineer\", \"yoe\": 3},\n",
    "    {\"low\": 150000, \"high\": 225000, \"company\": \"Dream3D\", \"size\": 3, \"title\":\"ML Infrastructure Engineer\", \"yoe\":3}, \n",
    "    {\"low\": 170000, \"high\": 220000, \"company\": \"Tavus\", \"size\": 15, \"title\": \"Applied ML Engineer\", \"yoe\": 3}, \n",
    "    {\"low\": 120000, \"high\": 180000, \"company\": \"Inventive AI\", \"size\": 3, \"title\": \"ML Engineer\", \"yoe\": 3}, \n",
    "    {\"low\": 120000, \"high\": 220000, \"company\": \"Industrial Next\", \"size\": 9, \"title\": \"ML Engineer\", \"yoe\": 3}, \n",
    "    {\"low\": 130000, \"high\": 200000, \"company\": \"Shaped\", \"size\": 7, \"title\": \"Sr. ML Engineer\", \"yoe\": 6}, \n",
    "    {\"low\": 100000, \"high\": 150000, \"company\": \"Meru\", \"size\": 4, \"title\": \"Machine Learning Architect\", \"yoe\":0},\n",
    "    {\"low\": 125000, \"high\": 185000, \"company\": \"Studdy\", \"size\": 27, \"title\": \"AI Engineer\", \"yoe\": 1}, \n",
    "    {\"low\": 150000, \"high\": 200000, \"company\": \"Pump\", \"size\": 11, \"title\": \"ML Engineer\", \"yoe\": 6}, \n",
    "    {\"low\": 150000, \"high\": 250000, \"company\": \"CodeComplete\", \"size\": 2, \"title\": \"ML Engineer (founding)\", \"yoe\":6}, \n",
    "    {\"low\": 125000, \"high\": 180000, \"company\": \"OfOne\", \"size\": 4, \"title\": \"ML Engineer (founding)\", \"yoe\": 3}, \n",
    "   # {\"low\": 126000, \"high\": 175000, \"company\": \"IronClad\", \"size\": 400, \"title\": \"Sr. Software Engineer AI\", \"yoe\": 3}, \n",
    "    {\"low\": 90000, \"high\": 130000, \"company\": \"DiffuseBio\", \"size\": 5, \"title\": \"ML Research Engineer\",\"yoe\": 3}, \n",
    "    {\"low\": 150000, \"high\": 200000, \"company\": \"Sapling.ai\", \"size\": 2, \"title\": \"ML Engineer\", \"yoe\": 3}, \n",
    "    {\"low\": 140000, \"high\": 240000, \"company\": \"Speak\", \"size\": 40, \"title\": \"Applied ML Speech\", \"yoe\":6}, \n",
    "    {\"low\": 165000, \"high\": 180000, \"company\": \"Industrial Next\", \"size\": 35, \"title\": \"Full Stack ML Engineer\", \"yoe\": 3},\n",
    "    {\"low\": 80000, \"high\": 180000, \"company\": \"Heroic Story\", \"size\": 8, \"title\": \"ML Engineer\", \"yoe\": 3}, \n",
    "    {\"low\": 150000, \"high\": 155000, \"company\": \"Turing Labs\", \"size\": 18, \"title\": \"Sr. ML Engineer\", \"yoe\": 3}, \n",
    "  #  {\"low\": 100000, \"high\": 200000, \"company\": \"Tempo\", \"size\": 158, \"title\": \"ML Engineer\", \"yoe\": 1}, \n",
    "    {\"low\": 140000, \"high\": 174000, \"company\": \"Machina Labs\", \"size\": 50, \"title\": \"ML Engineer\", \"yoe\": 1}, \n",
    "    #{\"low\": 108000, \"high\": 158000, \"company\": \"Arters\", \"size\": 318, \"title\": \"ML Engineer II\", \"yoe\": 3}, \n",
    "    #{\"low\": 152000, \"high\": 172000, \"company\": \"Beyond Limits\", \"size\": 294, \"title\": \"ML Scientist\", \"yoe\": 5}, \n",
    "    {\"low\": 160000, \"high\": 210000, \"company\": \"Enigma\", \"size\": 70, \"title\": \"Sr. ML Engineer\", \"yoe\": 5}, \n",
    "    #{\"low\": 135000, \"high\": 288000, \"company\": \"GoodRx\", \"size\": 800, \"title\": \"Sr. ML Engineer II\", \"yoe\": 7}, \n",
    "    #{\"low\": 155000, \"high\": 226000, \"company\": \"Zocdoc\", \"size\": 715, \"title\": \"Sr. ML Engineer II\", \"yoe\": 5}, \n",
    "    #  {\"low\": 160000, \"high\": 225000, \"company\": \"PDT Partners\", \"size\": 196, \"title\": \"Applied ML Scientist\", \"yoe\": 7}, \n",
    "    #{\"low\": 140000, \"high\": 220000, \"company\": \"Schrodinger\", \"size\": 896, \"title\": \"ML Research Scientist, Hit Discovery\", \"yoe\": 1},\n",
    "    {\"low\": 175000, \"high\": 275000, \"company\": \"Vatic Investments\", \"size\": 21, \"title\": \"AI Engineer\", \"yoe\": 3},\n",
    "    {\"low\": 140000, \"high\": 170000, \"company\": \"PAXAFE\", \"size\": 9, \"title\": \"ML Engineer\", \"yoe\": 5},\n",
    "    # {\"low\": 150000, \"high\": 200000, \"company\": \"Rocket Money\", \"size\": 201, \"title\": \"Sr. ML Engineer\", \"yoe\": 5},\n",
    "    {\"low\": 125000, \"high\": 175000, \"company\": \"Kalepa\", \"size\": 15, \"title\": \"Sr. ML Engineer\", \"yoe\": 5},\n",
    "    # {\"low\": 147000, \"high\": 184000, \"company\": \"Quora\", \"size\": 260, \"title\": \"ML Engineer\", \"yoe\": 3},\n",
    "     #  {\"low\": 170000, \"high\": 240000, \"company\": \"Kalepa\", \"size\": 201, \"title\": \"Sr. ML Engineer\", \"yoe\": 5},\n",
    "    {\"low\": 180000, \"high\": 250000, \"company\": \"Redactable\", \"size\": 20, \"title\": \"Sr. ML Engineer\", \"yoe\": 5},\n",
    "    {\"low\": 140000, \"high\": 170000, \"company\": \"Presage\", \"size\": 15, \"title\": \"ML Engineer\", \"yoe\": 5},\n",
    "    {\"low\": 120000, \"high\": 200000, \"company\": \"Fieldguide\", \"size\": 15, \"title\": \"Software Engineer AI\", \"yoe\": 3},\n",
    "    {\"low\": 80000, \"high\": 160000, \"company\": \"Omneky\", \"size\": 15, \"title\": \"ML Engineer\", \"yoe\": 3},\n",
    "    {\"low\": 130000, \"high\": 180000, \"company\": \"Altis Labs\", \"size\": 15, \"title\": \"Sr. ML Engineer\", \"yoe\": 4},\n",
    "    {\"low\": 210000, \"high\": 230000, \"company\": \"Assured\", \"size\": 15, \"title\": \"Sr. ML Engineer\", \"yoe\": 5},\n",
    "    {\"low\": 150000, \"high\": 200000, \"company\": \"TipTop\", \"size\": 15, \"title\": \"ML Engineer\", \"yoe\": 4},\n",
    "\n",
    "\n",
    "\n",
    "\n",
    "    \n",
    "\n",
    "    ]\n",
    "\n",
    "# Create a DataFrame from the data\n",
    "df = pd.DataFrame(data)\n",
    "\n",
    "# Create figure and add horizontal bars\n",
    "fig = go.Figure()\n",
    "\n",
    "bars = []\n",
    "for index, row in df.iterrows():\n",
    "    color = \"#011627\"\n",
    "\n",
    "    \n",
    "\n",
    "    if row[\"yoe\"] >= 6: \n",
    "        color = \"#34E4EA\"\n",
    "\n",
    "    elif row[\"yoe\"] >= 3 and row[\"yoe\"] < 6:\n",
    "        color = \"#4A6FA5\"\n",
    "\n",
    "    \n",
    "    fig.add_trace(\n",
    "        go.Box(x=[row[\"low\"], row[\"high\"]], \n",
    "               hoverinfo=\"text\", \n",
    "               text=f\"Listing {index}\",\n",
    "               line = {\"color\": color},\n",
    "               fillcolor=color)\n",
    "    )\n",
    "\n",
    "\n",
    "# Setting layout\n",
    "fig.update_layout(\n",
    "    title='Salary Windows: Wellfound & Y Combinator & BuiltIn < 75 employees',\n",
    "    xaxis=dict(title='Salary Range'),\n",
    "    yaxis=dict(title='Salary Windows'),\n",
    "    showlegend=False,\n",
    ")\n",
    "#layout = go.Layout(barmode = 'stack')\n",
    "\n",
    "# Update the range of the figure\n",
    "fig.add_vline(x = 145000, line_color=\"green\")\n",
    "fig.add_vline(x = 150000, line_color=\"red\")\n",
    "\n",
    "fig.update_xaxes(range=[min(df['low'])-10000, max(df['high'])+10000])\n",
    "fig.update_yaxes(type='category')\n",
    "\n",
    "# Show plot\n",
    "fig.show()"
   ]
  },
  {
   "cell_type": "code",
   "execution_count": 29,
   "id": "7b9bb919-bc49-4906-b1a1-96071edf76ec",
   "metadata": {},
   "outputs": [],
   "source": [
    "# Black = 1, blue = 3+ , aqua = 6+, red is inflation-adjusted 2020 salary, # under 100 employees"
   ]
  },
  {
   "cell_type": "code",
   "execution_count": null,
   "id": "228cb4b0-df89-41e1-829a-3a6c4650e073",
   "metadata": {},
   "outputs": [],
   "source": [
    "from datetime import datetime"
   ]
  },
  {
   "cell_type": "code",
   "execution_count": 26,
   "id": "514e6beb-9e77-450b-ac1c-493f786f81cb",
   "metadata": {},
   "outputs": [],
   "source": [
    "\n",
    "\n",
    "monthly_costs = [\n",
    "    {\"month\": 1, \"cost\":  1546.33 + 2500},\n",
    "    {\"month\": 2, \"cost\":  2230.01 + 2500},\n",
    "    {\"month\": 3, \"cost\":  2132 + 2500},\n",
    "    {\"month\": 4, \"cost\":  1741.23 + 2500},\n",
    "    {\"month\": 5, \"cost\":  2521.07 + 2500},\n",
    "    {\"month\": 6, \"cost\":  1491.66 + 2500},\n",
    "    {\"month\": 7, \"cost\":  1192.42 + 2500},\n",
    "    {\"month\": 8, \"cost\":  4619.92 + 2500},\n",
    "    {\"month\": 9, \"cost\":  189.69 + 6443.68 + 1250}, # nlpcloud cancels halfway\n",
    "    {\"month\": 10, \"cost\": 452.98 + 7892.85},\n",
    "    {\"month\": 11, \"cost\": 1603.69 + 4399.88},\n",
    "    {\"month\": 12, \"cost\": 1906.83 + 300}, # estimate for steady state, does not include experimental \n",
    "    {\"month\": 13, \"cost\": 1906.83 + 300}\n",
    "]\n",
    "\n",
    "monthly_cost_df = pd.DataFrame(monthly_costs)"
   ]
  },
  {
   "cell_type": "code",
   "execution_count": 27,
   "id": "654f27dc-0fc8-48f0-aa5f-6194c43c5618",
   "metadata": {},
   "outputs": [
    {
     "data": {
      "application/vnd.plotly.v1+json": {
       "config": {
        "plotlyServerURL": "https://plot.ly"
       },
       "data": [
        {
         "hovertemplate": "month=%{x}<br>cost=%{y}<extra></extra>",
         "legendgroup": "",
         "line": {
          "color": "#636efa",
          "dash": "solid"
         },
         "marker": {
          "symbol": "circle"
         },
         "mode": "lines",
         "name": "",
         "orientation": "v",
         "showlegend": false,
         "type": "scatter",
         "x": [
          1,
          2,
          3,
          4,
          5,
          6,
          7,
          8,
          9,
          10,
          11,
          12,
          13
         ],
         "xaxis": "x",
         "y": [
          4046.33,
          4730.01,
          4632,
          4241.23,
          5021.07,
          3991.66,
          3692.42,
          7119.92,
          7883.37,
          8345.83,
          6003.57,
          2206.83,
          2206.83
         ],
         "yaxis": "y"
        }
       ],
       "layout": {
        "autosize": true,
        "legend": {
         "tracegroupgap": 0
        },
        "shapes": [
         {
          "fillcolor": "red",
          "line": {
           "width": 0
          },
          "opacity": 0.2,
          "type": "rect",
          "x0": 7.5,
          "x1": 11.5,
          "xref": "x",
          "y0": 0,
          "y1": 1,
          "yref": "y domain"
         },
         {
          "line": {
           "color": "green"
          },
          "type": "line",
          "x0": 0,
          "x1": 1,
          "xref": "x domain",
          "y0": 2200,
          "y1": 2200,
          "yref": "y"
         }
        ],
        "template": {
         "data": {
          "bar": [
           {
            "error_x": {
             "color": "#2a3f5f"
            },
            "error_y": {
             "color": "#2a3f5f"
            },
            "marker": {
             "line": {
              "color": "#E5ECF6",
              "width": 0.5
             },
             "pattern": {
              "fillmode": "overlay",
              "size": 10,
              "solidity": 0.2
             }
            },
            "type": "bar"
           }
          ],
          "barpolar": [
           {
            "marker": {
             "line": {
              "color": "#E5ECF6",
              "width": 0.5
             },
             "pattern": {
              "fillmode": "overlay",
              "size": 10,
              "solidity": 0.2
             }
            },
            "type": "barpolar"
           }
          ],
          "carpet": [
           {
            "aaxis": {
             "endlinecolor": "#2a3f5f",
             "gridcolor": "white",
             "linecolor": "white",
             "minorgridcolor": "white",
             "startlinecolor": "#2a3f5f"
            },
            "baxis": {
             "endlinecolor": "#2a3f5f",
             "gridcolor": "white",
             "linecolor": "white",
             "minorgridcolor": "white",
             "startlinecolor": "#2a3f5f"
            },
            "type": "carpet"
           }
          ],
          "choropleth": [
           {
            "colorbar": {
             "outlinewidth": 0,
             "ticks": ""
            },
            "type": "choropleth"
           }
          ],
          "contour": [
           {
            "colorbar": {
             "outlinewidth": 0,
             "ticks": ""
            },
            "colorscale": [
             [
              0,
              "#0d0887"
             ],
             [
              0.1111111111111111,
              "#46039f"
             ],
             [
              0.2222222222222222,
              "#7201a8"
             ],
             [
              0.3333333333333333,
              "#9c179e"
             ],
             [
              0.4444444444444444,
              "#bd3786"
             ],
             [
              0.5555555555555556,
              "#d8576b"
             ],
             [
              0.6666666666666666,
              "#ed7953"
             ],
             [
              0.7777777777777778,
              "#fb9f3a"
             ],
             [
              0.8888888888888888,
              "#fdca26"
             ],
             [
              1,
              "#f0f921"
             ]
            ],
            "type": "contour"
           }
          ],
          "contourcarpet": [
           {
            "colorbar": {
             "outlinewidth": 0,
             "ticks": ""
            },
            "type": "contourcarpet"
           }
          ],
          "heatmap": [
           {
            "colorbar": {
             "outlinewidth": 0,
             "ticks": ""
            },
            "colorscale": [
             [
              0,
              "#0d0887"
             ],
             [
              0.1111111111111111,
              "#46039f"
             ],
             [
              0.2222222222222222,
              "#7201a8"
             ],
             [
              0.3333333333333333,
              "#9c179e"
             ],
             [
              0.4444444444444444,
              "#bd3786"
             ],
             [
              0.5555555555555556,
              "#d8576b"
             ],
             [
              0.6666666666666666,
              "#ed7953"
             ],
             [
              0.7777777777777778,
              "#fb9f3a"
             ],
             [
              0.8888888888888888,
              "#fdca26"
             ],
             [
              1,
              "#f0f921"
             ]
            ],
            "type": "heatmap"
           }
          ],
          "heatmapgl": [
           {
            "colorbar": {
             "outlinewidth": 0,
             "ticks": ""
            },
            "colorscale": [
             [
              0,
              "#0d0887"
             ],
             [
              0.1111111111111111,
              "#46039f"
             ],
             [
              0.2222222222222222,
              "#7201a8"
             ],
             [
              0.3333333333333333,
              "#9c179e"
             ],
             [
              0.4444444444444444,
              "#bd3786"
             ],
             [
              0.5555555555555556,
              "#d8576b"
             ],
             [
              0.6666666666666666,
              "#ed7953"
             ],
             [
              0.7777777777777778,
              "#fb9f3a"
             ],
             [
              0.8888888888888888,
              "#fdca26"
             ],
             [
              1,
              "#f0f921"
             ]
            ],
            "type": "heatmapgl"
           }
          ],
          "histogram": [
           {
            "marker": {
             "pattern": {
              "fillmode": "overlay",
              "size": 10,
              "solidity": 0.2
             }
            },
            "type": "histogram"
           }
          ],
          "histogram2d": [
           {
            "colorbar": {
             "outlinewidth": 0,
             "ticks": ""
            },
            "colorscale": [
             [
              0,
              "#0d0887"
             ],
             [
              0.1111111111111111,
              "#46039f"
             ],
             [
              0.2222222222222222,
              "#7201a8"
             ],
             [
              0.3333333333333333,
              "#9c179e"
             ],
             [
              0.4444444444444444,
              "#bd3786"
             ],
             [
              0.5555555555555556,
              "#d8576b"
             ],
             [
              0.6666666666666666,
              "#ed7953"
             ],
             [
              0.7777777777777778,
              "#fb9f3a"
             ],
             [
              0.8888888888888888,
              "#fdca26"
             ],
             [
              1,
              "#f0f921"
             ]
            ],
            "type": "histogram2d"
           }
          ],
          "histogram2dcontour": [
           {
            "colorbar": {
             "outlinewidth": 0,
             "ticks": ""
            },
            "colorscale": [
             [
              0,
              "#0d0887"
             ],
             [
              0.1111111111111111,
              "#46039f"
             ],
             [
              0.2222222222222222,
              "#7201a8"
             ],
             [
              0.3333333333333333,
              "#9c179e"
             ],
             [
              0.4444444444444444,
              "#bd3786"
             ],
             [
              0.5555555555555556,
              "#d8576b"
             ],
             [
              0.6666666666666666,
              "#ed7953"
             ],
             [
              0.7777777777777778,
              "#fb9f3a"
             ],
             [
              0.8888888888888888,
              "#fdca26"
             ],
             [
              1,
              "#f0f921"
             ]
            ],
            "type": "histogram2dcontour"
           }
          ],
          "mesh3d": [
           {
            "colorbar": {
             "outlinewidth": 0,
             "ticks": ""
            },
            "type": "mesh3d"
           }
          ],
          "parcoords": [
           {
            "line": {
             "colorbar": {
              "outlinewidth": 0,
              "ticks": ""
             }
            },
            "type": "parcoords"
           }
          ],
          "pie": [
           {
            "automargin": true,
            "type": "pie"
           }
          ],
          "scatter": [
           {
            "fillpattern": {
             "fillmode": "overlay",
             "size": 10,
             "solidity": 0.2
            },
            "type": "scatter"
           }
          ],
          "scatter3d": [
           {
            "line": {
             "colorbar": {
              "outlinewidth": 0,
              "ticks": ""
             }
            },
            "marker": {
             "colorbar": {
              "outlinewidth": 0,
              "ticks": ""
             }
            },
            "type": "scatter3d"
           }
          ],
          "scattercarpet": [
           {
            "marker": {
             "colorbar": {
              "outlinewidth": 0,
              "ticks": ""
             }
            },
            "type": "scattercarpet"
           }
          ],
          "scattergeo": [
           {
            "marker": {
             "colorbar": {
              "outlinewidth": 0,
              "ticks": ""
             }
            },
            "type": "scattergeo"
           }
          ],
          "scattergl": [
           {
            "marker": {
             "colorbar": {
              "outlinewidth": 0,
              "ticks": ""
             }
            },
            "type": "scattergl"
           }
          ],
          "scattermapbox": [
           {
            "marker": {
             "colorbar": {
              "outlinewidth": 0,
              "ticks": ""
             }
            },
            "type": "scattermapbox"
           }
          ],
          "scatterpolar": [
           {
            "marker": {
             "colorbar": {
              "outlinewidth": 0,
              "ticks": ""
             }
            },
            "type": "scatterpolar"
           }
          ],
          "scatterpolargl": [
           {
            "marker": {
             "colorbar": {
              "outlinewidth": 0,
              "ticks": ""
             }
            },
            "type": "scatterpolargl"
           }
          ],
          "scatterternary": [
           {
            "marker": {
             "colorbar": {
              "outlinewidth": 0,
              "ticks": ""
             }
            },
            "type": "scatterternary"
           }
          ],
          "surface": [
           {
            "colorbar": {
             "outlinewidth": 0,
             "ticks": ""
            },
            "colorscale": [
             [
              0,
              "#0d0887"
             ],
             [
              0.1111111111111111,
              "#46039f"
             ],
             [
              0.2222222222222222,
              "#7201a8"
             ],
             [
              0.3333333333333333,
              "#9c179e"
             ],
             [
              0.4444444444444444,
              "#bd3786"
             ],
             [
              0.5555555555555556,
              "#d8576b"
             ],
             [
              0.6666666666666666,
              "#ed7953"
             ],
             [
              0.7777777777777778,
              "#fb9f3a"
             ],
             [
              0.8888888888888888,
              "#fdca26"
             ],
             [
              1,
              "#f0f921"
             ]
            ],
            "type": "surface"
           }
          ],
          "table": [
           {
            "cells": {
             "fill": {
              "color": "#EBF0F8"
             },
             "line": {
              "color": "white"
             }
            },
            "header": {
             "fill": {
              "color": "#C8D4E3"
             },
             "line": {
              "color": "white"
             }
            },
            "type": "table"
           }
          ]
         },
         "layout": {
          "annotationdefaults": {
           "arrowcolor": "#2a3f5f",
           "arrowhead": 0,
           "arrowwidth": 1
          },
          "autotypenumbers": "strict",
          "coloraxis": {
           "colorbar": {
            "outlinewidth": 0,
            "ticks": ""
           }
          },
          "colorscale": {
           "diverging": [
            [
             0,
             "#8e0152"
            ],
            [
             0.1,
             "#c51b7d"
            ],
            [
             0.2,
             "#de77ae"
            ],
            [
             0.3,
             "#f1b6da"
            ],
            [
             0.4,
             "#fde0ef"
            ],
            [
             0.5,
             "#f7f7f7"
            ],
            [
             0.6,
             "#e6f5d0"
            ],
            [
             0.7,
             "#b8e186"
            ],
            [
             0.8,
             "#7fbc41"
            ],
            [
             0.9,
             "#4d9221"
            ],
            [
             1,
             "#276419"
            ]
           ],
           "sequential": [
            [
             0,
             "#0d0887"
            ],
            [
             0.1111111111111111,
             "#46039f"
            ],
            [
             0.2222222222222222,
             "#7201a8"
            ],
            [
             0.3333333333333333,
             "#9c179e"
            ],
            [
             0.4444444444444444,
             "#bd3786"
            ],
            [
             0.5555555555555556,
             "#d8576b"
            ],
            [
             0.6666666666666666,
             "#ed7953"
            ],
            [
             0.7777777777777778,
             "#fb9f3a"
            ],
            [
             0.8888888888888888,
             "#fdca26"
            ],
            [
             1,
             "#f0f921"
            ]
           ],
           "sequentialminus": [
            [
             0,
             "#0d0887"
            ],
            [
             0.1111111111111111,
             "#46039f"
            ],
            [
             0.2222222222222222,
             "#7201a8"
            ],
            [
             0.3333333333333333,
             "#9c179e"
            ],
            [
             0.4444444444444444,
             "#bd3786"
            ],
            [
             0.5555555555555556,
             "#d8576b"
            ],
            [
             0.6666666666666666,
             "#ed7953"
            ],
            [
             0.7777777777777778,
             "#fb9f3a"
            ],
            [
             0.8888888888888888,
             "#fdca26"
            ],
            [
             1,
             "#f0f921"
            ]
           ]
          },
          "colorway": [
           "#636efa",
           "#EF553B",
           "#00cc96",
           "#ab63fa",
           "#FFA15A",
           "#19d3f3",
           "#FF6692",
           "#B6E880",
           "#FF97FF",
           "#FECB52"
          ],
          "font": {
           "color": "#2a3f5f"
          },
          "geo": {
           "bgcolor": "white",
           "lakecolor": "white",
           "landcolor": "#E5ECF6",
           "showlakes": true,
           "showland": true,
           "subunitcolor": "white"
          },
          "hoverlabel": {
           "align": "left"
          },
          "hovermode": "closest",
          "mapbox": {
           "style": "light"
          },
          "paper_bgcolor": "white",
          "plot_bgcolor": "#E5ECF6",
          "polar": {
           "angularaxis": {
            "gridcolor": "white",
            "linecolor": "white",
            "ticks": ""
           },
           "bgcolor": "#E5ECF6",
           "radialaxis": {
            "gridcolor": "white",
            "linecolor": "white",
            "ticks": ""
           }
          },
          "scene": {
           "xaxis": {
            "backgroundcolor": "#E5ECF6",
            "gridcolor": "white",
            "gridwidth": 2,
            "linecolor": "white",
            "showbackground": true,
            "ticks": "",
            "zerolinecolor": "white"
           },
           "yaxis": {
            "backgroundcolor": "#E5ECF6",
            "gridcolor": "white",
            "gridwidth": 2,
            "linecolor": "white",
            "showbackground": true,
            "ticks": "",
            "zerolinecolor": "white"
           },
           "zaxis": {
            "backgroundcolor": "#E5ECF6",
            "gridcolor": "white",
            "gridwidth": 2,
            "linecolor": "white",
            "showbackground": true,
            "ticks": "",
            "zerolinecolor": "white"
           }
          },
          "shapedefaults": {
           "line": {
            "color": "#2a3f5f"
           }
          },
          "ternary": {
           "aaxis": {
            "gridcolor": "white",
            "linecolor": "white",
            "ticks": ""
           },
           "baxis": {
            "gridcolor": "white",
            "linecolor": "white",
            "ticks": ""
           },
           "bgcolor": "#E5ECF6",
           "caxis": {
            "gridcolor": "white",
            "linecolor": "white",
            "ticks": ""
           }
          },
          "title": {
           "x": 0.05
          },
          "xaxis": {
           "automargin": true,
           "gridcolor": "white",
           "linecolor": "white",
           "ticks": "",
           "title": {
            "standoff": 15
           },
           "zerolinecolor": "white",
           "zerolinewidth": 2
          },
          "yaxis": {
           "automargin": true,
           "gridcolor": "white",
           "linecolor": "white",
           "ticks": "",
           "title": {
            "standoff": 15
           },
           "zerolinecolor": "white",
           "zerolinewidth": 2
          }
         }
        },
        "title": {
         "text": "ML Inference Spend"
        },
        "xaxis": {
         "anchor": "y",
         "autorange": true,
         "domain": [
          0,
          1
         ],
         "range": [
          1,
          13
         ],
         "title": {
          "text": "month"
         },
         "type": "linear"
        },
        "yaxis": {
         "anchor": "x",
         "domain": [
          0,
          1
         ],
         "range": [
          0,
          10000
         ],
         "title": {
          "text": "cost"
         },
         "type": "linear"
        }
       }
      },
      "image/png": "[encoded data removed]",
      "text/html": [
       "<div>                            <div id=\"22067908-15fc-4635-ab48-20ad4d4c04c6\" class=\"plotly-graph-div\" style=\"height:525px; width:100%;\"></div>            <script type=\"text/javascript\">                require([\"plotly\"], function(Plotly) {                    window.PLOTLYENV=window.PLOTLYENV || {};                                    if (document.getElementById(\"22067908-15fc-4635-ab48-20ad4d4c04c6\")) {                    Plotly.newPlot(                        \"22067908-15fc-4635-ab48-20ad4d4c04c6\",                        [{\"hovertemplate\":\"month=%{x}\\u003cbr\\u003ecost=%{y}\\u003cextra\\u003e\\u003c\\u002fextra\\u003e\",\"legendgroup\":\"\",\"line\":{\"color\":\"#636efa\",\"dash\":\"solid\"},\"marker\":{\"symbol\":\"circle\"},\"mode\":\"lines\",\"name\":\"\",\"orientation\":\"v\",\"showlegend\":false,\"x\":[1,2,3,4,5,6,7,8,9,10,11,12,13],\"xaxis\":\"x\",\"y\":[4046.33,4730.01,4632.0,4241.23,5021.07,3991.66,3692.42,7119.92,7883.37,8345.83,6003.57,2206.83,2206.83],\"yaxis\":\"y\",\"type\":\"scatter\"}],                        {\"template\":{\"data\":{\"histogram2dcontour\":[{\"type\":\"histogram2dcontour\",\"colorbar\":{\"outlinewidth\":0,\"ticks\":\"\"},\"colorscale\":[[0.0,\"#0d0887\"],[0.1111111111111111,\"#46039f\"],[0.2222222222222222,\"#7201a8\"],[0.3333333333333333,\"#9c179e\"],[0.4444444444444444,\"#bd3786\"],[0.5555555555555556,\"#d8576b\"],[0.6666666666666666,\"#ed7953\"],[0.7777777777777778,\"#fb9f3a\"],[0.8888888888888888,\"#fdca26\"],[1.0,\"#f0f921\"]]}],\"choropleth\":[{\"type\":\"choropleth\",\"colorbar\":{\"outlinewidth\":0,\"ticks\":\"\"}}],\"histogram2d\":[{\"type\":\"histogram2d\",\"colorbar\":{\"outlinewidth\":0,\"ticks\":\"\"},\"colorscale\":[[0.0,\"#0d0887\"],[0.1111111111111111,\"#46039f\"],[0.2222222222222222,\"#7201a8\"],[0.3333333333333333,\"#9c179e\"],[0.4444444444444444,\"#bd3786\"],[0.5555555555555556,\"#d8576b\"],[0.6666666666666666,\"#ed7953\"],[0.7777777777777778,\"#fb9f3a\"],[0.8888888888888888,\"#fdca26\"],[1.0,\"#f0f921\"]]}],\"heatmap\":[{\"type\":\"heatmap\",\"colorbar\":{\"outlinewidth\":0,\"ticks\":\"\"},\"colorscale\":[[0.0,\"#0d0887\"],[0.1111111111111111,\"#46039f\"],[0.2222222222222222,\"#7201a8\"],[0.3333333333333333,\"#9c179e\"],[0.4444444444444444,\"#bd3786\"],[0.5555555555555556,\"#d8576b\"],[0.6666666666666666,\"#ed7953\"],[0.7777777777777778,\"#fb9f3a\"],[0.8888888888888888,\"#fdca26\"],[1.0,\"#f0f921\"]]}],\"heatmapgl\":[{\"type\":\"heatmapgl\",\"colorbar\":{\"outlinewidth\":0,\"ticks\":\"\"},\"colorscale\":[[0.0,\"#0d0887\"],[0.1111111111111111,\"#46039f\"],[0.2222222222222222,\"#7201a8\"],[0.3333333333333333,\"#9c179e\"],[0.4444444444444444,\"#bd3786\"],[0.5555555555555556,\"#d8576b\"],[0.6666666666666666,\"#ed7953\"],[0.7777777777777778,\"#fb9f3a\"],[0.8888888888888888,\"#fdca26\"],[1.0,\"#f0f921\"]]}],\"contourcarpet\":[{\"type\":\"contourcarpet\",\"colorbar\":{\"outlinewidth\":0,\"ticks\":\"\"}}],\"contour\":[{\"type\":\"contour\",\"colorbar\":{\"outlinewidth\":0,\"ticks\":\"\"},\"colorscale\":[[0.0,\"#0d0887\"],[0.1111111111111111,\"#46039f\"],[0.2222222222222222,\"#7201a8\"],[0.3333333333333333,\"#9c179e\"],[0.4444444444444444,\"#bd3786\"],[0.5555555555555556,\"#d8576b\"],[0.6666666666666666,\"#ed7953\"],[0.7777777777777778,\"#fb9f3a\"],[0.8888888888888888,\"#fdca26\"],[1.0,\"#f0f921\"]]}],\"surface\":[{\"type\":\"surface\",\"colorbar\":{\"outlinewidth\":0,\"ticks\":\"\"},\"colorscale\":[[0.0,\"#0d0887\"],[0.1111111111111111,\"#46039f\"],[0.2222222222222222,\"#7201a8\"],[0.3333333333333333,\"#9c179e\"],[0.4444444444444444,\"#bd3786\"],[0.5555555555555556,\"#d8576b\"],[0.6666666666666666,\"#ed7953\"],[0.7777777777777778,\"#fb9f3a\"],[0.8888888888888888,\"#fdca26\"],[1.0,\"#f0f921\"]]}],\"mesh3d\":[{\"type\":\"mesh3d\",\"colorbar\":{\"outlinewidth\":0,\"ticks\":\"\"}}],\"scatter\":[{\"fillpattern\":{\"fillmode\":\"overlay\",\"size\":10,\"solidity\":0.2},\"type\":\"scatter\"}],\"parcoords\":[{\"type\":\"parcoords\",\"line\":{\"colorbar\":{\"outlinewidth\":0,\"ticks\":\"\"}}}],\"scatterpolargl\":[{\"type\":\"scatterpolargl\",\"marker\":{\"colorbar\":{\"outlinewidth\":0,\"ticks\":\"\"}}}],\"bar\":[{\"error_x\":{\"color\":\"#2a3f5f\"},\"error_y\":{\"color\":\"#2a3f5f\"},\"marker\":{\"line\":{\"color\":\"#E5ECF6\",\"width\":0.5},\"pattern\":{\"fillmode\":\"overlay\",\"size\":10,\"solidity\":0.2}},\"type\":\"bar\"}],\"scattergeo\":[{\"type\":\"scattergeo\",\"marker\":{\"colorbar\":{\"outlinewidth\":0,\"ticks\":\"\"}}}],\"scatterpolar\":[{\"type\":\"scatterpolar\",\"marker\":{\"colorbar\":{\"outlinewidth\":0,\"ticks\":\"\"}}}],\"histogram\":[{\"marker\":{\"pattern\":{\"fillmode\":\"overlay\",\"size\":10,\"solidity\":0.2}},\"type\":\"histogram\"}],\"scattergl\":[{\"type\":\"scattergl\",\"marker\":{\"colorbar\":{\"outlinewidth\":0,\"ticks\":\"\"}}}],\"scatter3d\":[{\"type\":\"scatter3d\",\"line\":{\"colorbar\":{\"outlinewidth\":0,\"ticks\":\"\"}},\"marker\":{\"colorbar\":{\"outlinewidth\":0,\"ticks\":\"\"}}}],\"scattermapbox\":[{\"type\":\"scattermapbox\",\"marker\":{\"colorbar\":{\"outlinewidth\":0,\"ticks\":\"\"}}}],\"scatterternary\":[{\"type\":\"scatterternary\",\"marker\":{\"colorbar\":{\"outlinewidth\":0,\"ticks\":\"\"}}}],\"scattercarpet\":[{\"type\":\"scattercarpet\",\"marker\":{\"colorbar\":{\"outlinewidth\":0,\"ticks\":\"\"}}}],\"carpet\":[{\"aaxis\":{\"endlinecolor\":\"#2a3f5f\",\"gridcolor\":\"white\",\"linecolor\":\"white\",\"minorgridcolor\":\"white\",\"startlinecolor\":\"#2a3f5f\"},\"baxis\":{\"endlinecolor\":\"#2a3f5f\",\"gridcolor\":\"white\",\"linecolor\":\"white\",\"minorgridcolor\":\"white\",\"startlinecolor\":\"#2a3f5f\"},\"type\":\"carpet\"}],\"table\":[{\"cells\":{\"fill\":{\"color\":\"#EBF0F8\"},\"line\":{\"color\":\"white\"}},\"header\":{\"fill\":{\"color\":\"#C8D4E3\"},\"line\":{\"color\":\"white\"}},\"type\":\"table\"}],\"barpolar\":[{\"marker\":{\"line\":{\"color\":\"#E5ECF6\",\"width\":0.5},\"pattern\":{\"fillmode\":\"overlay\",\"size\":10,\"solidity\":0.2}},\"type\":\"barpolar\"}],\"pie\":[{\"automargin\":true,\"type\":\"pie\"}]},\"layout\":{\"autotypenumbers\":\"strict\",\"colorway\":[\"#636efa\",\"#EF553B\",\"#00cc96\",\"#ab63fa\",\"#FFA15A\",\"#19d3f3\",\"#FF6692\",\"#B6E880\",\"#FF97FF\",\"#FECB52\"],\"font\":{\"color\":\"#2a3f5f\"},\"hovermode\":\"closest\",\"hoverlabel\":{\"align\":\"left\"},\"paper_bgcolor\":\"white\",\"plot_bgcolor\":\"#E5ECF6\",\"polar\":{\"bgcolor\":\"#E5ECF6\",\"angularaxis\":{\"gridcolor\":\"white\",\"linecolor\":\"white\",\"ticks\":\"\"},\"radialaxis\":{\"gridcolor\":\"white\",\"linecolor\":\"white\",\"ticks\":\"\"}},\"ternary\":{\"bgcolor\":\"#E5ECF6\",\"aaxis\":{\"gridcolor\":\"white\",\"linecolor\":\"white\",\"ticks\":\"\"},\"baxis\":{\"gridcolor\":\"white\",\"linecolor\":\"white\",\"ticks\":\"\"},\"caxis\":{\"gridcolor\":\"white\",\"linecolor\":\"white\",\"ticks\":\"\"}},\"coloraxis\":{\"colorbar\":{\"outlinewidth\":0,\"ticks\":\"\"}},\"colorscale\":{\"sequential\":[[0.0,\"#0d0887\"],[0.1111111111111111,\"#46039f\"],[0.2222222222222222,\"#7201a8\"],[0.3333333333333333,\"#9c179e\"],[0.4444444444444444,\"#bd3786\"],[0.5555555555555556,\"#d8576b\"],[0.6666666666666666,\"#ed7953\"],[0.7777777777777778,\"#fb9f3a\"],[0.8888888888888888,\"#fdca26\"],[1.0,\"#f0f921\"]],\"sequentialminus\":[[0.0,\"#0d0887\"],[0.1111111111111111,\"#46039f\"],[0.2222222222222222,\"#7201a8\"],[0.3333333333333333,\"#9c179e\"],[0.4444444444444444,\"#bd3786\"],[0.5555555555555556,\"#d8576b\"],[0.6666666666666666,\"#ed7953\"],[0.7777777777777778,\"#fb9f3a\"],[0.8888888888888888,\"#fdca26\"],[1.0,\"#f0f921\"]],\"diverging\":[[0,\"#8e0152\"],[0.1,\"#c51b7d\"],[0.2,\"#de77ae\"],[0.3,\"#f1b6da\"],[0.4,\"#fde0ef\"],[0.5,\"#f7f7f7\"],[0.6,\"#e6f5d0\"],[0.7,\"#b8e186\"],[0.8,\"#7fbc41\"],[0.9,\"#4d9221\"],[1,\"#276419\"]]},\"xaxis\":{\"gridcolor\":\"white\",\"linecolor\":\"white\",\"ticks\":\"\",\"title\":{\"standoff\":15},\"zerolinecolor\":\"white\",\"automargin\":true,\"zerolinewidth\":2},\"yaxis\":{\"gridcolor\":\"white\",\"linecolor\":\"white\",\"ticks\":\"\",\"title\":{\"standoff\":15},\"zerolinecolor\":\"white\",\"automargin\":true,\"zerolinewidth\":2},\"scene\":{\"xaxis\":{\"backgroundcolor\":\"#E5ECF6\",\"gridcolor\":\"white\",\"linecolor\":\"white\",\"showbackground\":true,\"ticks\":\"\",\"zerolinecolor\":\"white\",\"gridwidth\":2},\"yaxis\":{\"backgroundcolor\":\"#E5ECF6\",\"gridcolor\":\"white\",\"linecolor\":\"white\",\"showbackground\":true,\"ticks\":\"\",\"zerolinecolor\":\"white\",\"gridwidth\":2},\"zaxis\":{\"backgroundcolor\":\"#E5ECF6\",\"gridcolor\":\"white\",\"linecolor\":\"white\",\"showbackground\":true,\"ticks\":\"\",\"zerolinecolor\":\"white\",\"gridwidth\":2}},\"shapedefaults\":{\"line\":{\"color\":\"#2a3f5f\"}},\"annotationdefaults\":{\"arrowcolor\":\"#2a3f5f\",\"arrowhead\":0,\"arrowwidth\":1},\"geo\":{\"bgcolor\":\"white\",\"landcolor\":\"#E5ECF6\",\"subunitcolor\":\"white\",\"showland\":true,\"showlakes\":true,\"lakecolor\":\"white\"},\"title\":{\"x\":0.05},\"mapbox\":{\"style\":\"light\"}}},\"xaxis\":{\"anchor\":\"y\",\"domain\":[0.0,1.0],\"title\":{\"text\":\"month\"}},\"yaxis\":{\"anchor\":\"x\",\"domain\":[0.0,1.0],\"title\":{\"text\":\"cost\"},\"range\":[0,10000]},\"legend\":{\"tracegroupgap\":0},\"title\":{\"text\":\"ML Inference Spend\"},\"shapes\":[{\"fillcolor\":\"red\",\"line\":{\"width\":0},\"opacity\":0.2,\"type\":\"rect\",\"x0\":7.5,\"x1\":11.5,\"xref\":\"x\",\"y0\":0,\"y1\":1,\"yref\":\"y domain\"},{\"line\":{\"color\":\"green\"},\"type\":\"line\",\"x0\":0,\"x1\":1,\"xref\":\"x domain\",\"y0\":2200,\"y1\":2200,\"yref\":\"y\"}]},                        {\"responsive\": true}                    ).then(function(){\n",
       "                            \n",
       "var gd = document.getElementById('22067908-15fc-4635-ab48-20ad4d4c04c6');\n",
       "var x = new MutationObserver(function (mutations, observer) {{\n",
       "        var display = window.getComputedStyle(gd).display;\n",
       "        if (!display || display === 'none') {{\n",
       "            console.log([gd, 'removed!']);\n",
       "            Plotly.purge(gd);\n",
       "            observer.disconnect();\n",
       "        }}\n",
       "}});\n",
       "\n",
       "// Listen for the removal of the full notebook cells\n",
       "var notebookContainer = gd.closest('#notebook-container');\n",
       "if (notebookContainer) {{\n",
       "    x.observe(notebookContainer, {childList: true});\n",
       "}}\n",
       "\n",
       "// Listen for the clearing of the current output cell\n",
       "var outputEl = gd.closest('.output');\n",
       "if (outputEl) {{\n",
       "    x.observe(outputEl, {childList: true});\n",
       "}}\n",
       "\n",
       "                        })                };                });            </script>        </div>"
      ]
     },
     "metadata": {},
     "output_type": "display_data"
    }
   ],
   "source": [
    "fig = px.line(data_frame=monthly_cost_df, x = \"month\", y=\"cost\", title=\"ML Inference Spend\")\n",
    "fig.add_vrect(x0 = 7.5, x1=11.5, line_width=0, fillcolor=\"red\", opacity=0.2)\n",
    "\n",
    "fig.add_hline( y = 2200, line_color=\"green\")\n",
    "\n",
    "fig.update_yaxes(range=[0, 10000])\n",
    "\n",
    "fig.show()"
   ]
  },
  {
   "cell_type": "code",
   "execution_count": null,
   "id": "47c18790-94ec-485a-94a4-774976c2576e",
   "metadata": {},
   "outputs": [],
   "source": []
  }
 ],
 "metadata": {
  "kernelspec": {
   "display_name": "Python 3 (ipykernel)",
   "language": "python",
   "name": "python3"
  },
  "language_info": {
   "codemirror_mode": {
    "name": "ipython",
    "version": 3
   },
   "file_extension": ".py",
   "mimetype": "text/x-python",
   "name": "python",
   "nbconvert_exporter": "python",
   "pygments_lexer": "ipython3",
   "version": "3.11.6"
  }
 },
 "nbformat": 4,
 "nbformat_minor": 5
}
